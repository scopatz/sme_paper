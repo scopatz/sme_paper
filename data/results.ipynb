{
 "metadata": {
  "name": "results"
 },
 "nbformat": 3,
 "nbformat_minor": 0,
 "worksheets": [
  {
   "cells": [
    {
     "cell_type": "code",
     "collapsed": false,
     "input": [
      "import numpy as np\n",
      "import matplotlib\n",
      "import matplotlib.pyplot as plt\n",
      "matplotlib.rc('font', family='serif', size=16)\n",
      "from pyne.material import Material, mats_latex_table\n",
      "from pyne.enrichment import *"
     ],
     "language": "python",
     "metadata": {},
     "outputs": [],
     "prompt_number": 1
    },
    {
     "cell_type": "markdown",
     "metadata": {},
     "source": [
      "The follwing should confim that the results for the composition match E. von Halle's from from 'Multicomponent Isotope Separation in Matched Abundance Ratio Cascades Composed of Stages with Large Separation Factors,' 1987."
     ]
    },
    {
     "cell_type": "code",
     "collapsed": false,
     "input": [
      "# Tungsten cascade\n",
      "# NOTE: target_mat_tail.comp[741860] was modified from a value of 0.28487 -> 0.28488 to make von Halle's concentraitions sum to 1.0.\n",
      "# Otherwise the tail concentrasions summed to 0.999990000, which was a source of minor numerical error.\n",
      "casc = Cascade(alpha=1.16306, Mstar=181.0, j=741800, k=741860, N=35.0, M=14.0, x_feed_j=0.0014, x_prod_j=0.51094, x_tail_j=0.00014, \n",
      "    mat_feed=Material({741800: 0.0014, 741820: 0.26416, 741830: 0.14409, 741840: 0.30618, 741860: 0.28417,}, 1.0, attrs={'name': '$x^F$'}))\n",
      "target_mat_prod = Material({741800: 0.51094, 741820: 0.48756, 741830: 0.00148, 741840: 0.00002, 741860: 0.00000,}, 1.0/407.0, attrs={'name': 'von Halle'})\n",
      "target_mat_tail = Material({741800: 0.00014, 741820: 0.26361, 741830: 0.14444, 741840: 0.30693, 741860: 0.28488,}, 406.0/407.0, attrs={'name': 'von Halle'})\n",
      "\n",
      "# symbolic solver\n",
      "solcasc1 = solve_symbolic(casc)\n",
      "# Uncomment below if a closer solution is desired, \n",
      "# The reason this isn't exact as is is because the number\n",
      "# of stages is far from ideal and therefore the Taylor \n",
      "# series approximation to NP is only good, not GRRREAT!\n",
      "solcasc2 = solve_symbolic(solcasc1)\n",
      "#solcasc = solve_symbolic(solcasc)\n",
      "\n",
      "# Trick materials into computing diffs\n",
      "result1_mat_prod = Material(dict(solcasc1.mat_prod.comp), attrs={'name': '1 pass'})\n",
      "result1_mat_tail = Material(dict(solcasc1.mat_tail.comp), attrs={'name': '1 pass'})\n",
      "result2_mat_prod = Material(dict(solcasc2.mat_prod.comp), attrs={'name': '2 pass'})\n",
      "result2_mat_tail = Material(dict(solcasc2.mat_tail.comp), attrs={'name': '2 pass'})\n",
      "\n",
      "for mat in [target_mat_prod, target_mat_tail, result1_mat_prod, result1_mat_tail, result2_mat_prod, result2_mat_tail]:\n",
      "    mat.mass = 1.0\n",
      "\n",
      "target_mat_prod.mass = -1.0\n",
      "diff1_mat_prod = (result1_mat_prod + target_mat_prod)\n",
      "diff1_mat_prod.attrs['name'] = '1 pass $\\\\Delta$'\n",
      "diff2_mat_prod = (result2_mat_prod + target_mat_prod)\n",
      "diff2_mat_prod.attrs['name'] = '2 pass $\\\\Delta$'\n",
      "\n",
      "target_mat_tail.mass = -1.0\n",
      "diff1_mat_tail = (result1_mat_tail + target_mat_tail)\n",
      "diff1_mat_tail.attrs['name'] = '1 pass $\\\\Delta$'\n",
      "diff2_mat_tail = (result2_mat_tail + target_mat_tail)\n",
      "diff2_mat_tail.attrs['name'] = '2 pass $\\\\Delta$'\n",
      "\n",
      "target_mat_prod.mass = 1.0\n",
      "target_mat_tail.mass = 1.0\n",
      "\n",
      "# Make product LaTeX Table\n",
      "prod_diff_table = mats_latex_table([target_mat_prod, result1_mat_prod, diff1_mat_prod, result2_mat_prod, diff2_mat_prod], \n",
      "                    labels=['Species'], align='|l||c||c|c||c|c|', format=['.5f', '.5f','+.4e','.5f','+.4e'])\n",
      "with open('../prod_diff_von_halle.tex', 'w') as f:\n",
      "    f.write(prod_diff_table)\n",
      "print prod_diff_table\n",
      "\n",
      "# Make tail LaTeX Table\n",
      "tail_diff_table = mats_latex_table([target_mat_tail, result1_mat_tail, diff1_mat_tail, result2_mat_tail, diff2_mat_tail], \n",
      "                    labels=['Species'], align='|l||c||c|c||c|c|', format=['.5f', '.5f','+.4e','.5f','+.4e'])\n",
      "with open('../tail_diff_von_halle.tex', 'w') as f:\n",
      "    f.write(tail_diff_table)\n",
      "print tail_diff_table"
     ],
     "language": "python",
     "metadata": {},
     "outputs": [
      {
       "output_type": "stream",
       "stream": "stdout",
       "text": [
        "\\begin{tabular}{|l||c||c|c||c|c|}\n",
        "\\hline\n",
        "\\bf{Species} & \\bf{von Halle} & \\bf{1 pass} & \\bf{1 pass $\\Delta$} & \\bf{2 pass} & \\bf{2 pass $\\Delta$} \\\\ \n",
        "\\hline\n",
        "W180 & 0.51094 & 0.51172 & +7.7973e-04 & 0.51094 & -1.3003e-09 \\\\ \n",
        "\\hline\n",
        "W182 & 0.48756 & 0.48712 & -4.4296e-04 & 0.48789 & +3.3106e-04 \\\\ \n",
        "\\hline\n",
        "W183 & 0.00148 & 0.00115 & -3.2640e-04 & 0.00116 & -3.2077e-04 \\\\ \n",
        "\\hline\n",
        "W184 & 0.00002 & 0.00001 & -1.0368e-05 & 0.00001 & -1.0289e-05 \\\\ \n",
        "\\hline\n",
        "W186 & 0.00000 & 0.00000 & +1.3330e-10 & 0.00000 & +1.3528e-10 \\\\ \n",
        "\\hline\n",
        "\\end{tabular}\n",
        "\n",
        "\\begin{tabular}{|l||c||c|c||c|c|}\n",
        "\\hline\n",
        "\\bf{Species} & \\bf{von Halle} & \\bf{1 pass} & \\bf{1 pass $\\Delta$} & \\bf{2 pass} & \\bf{2 pass $\\Delta$} \\\\ \n",
        "\\hline\n",
        "W180 & 0.00014 & 0.00014 & -5.2751e-10 & 0.00014 & +8.8124e-16 \\\\ \n",
        "\\hline\n",
        "W182 & 0.26361 & 0.26361 & -4.9016e-07 & 0.26361 & -3.2463e-06 \\\\ \n",
        "\\hline\n",
        "W183 & 0.14444 & 0.14444 & +2.9159e-06 & 0.14444 & +3.4419e-06 \\\\ \n",
        "\\hline\n",
        "W184 & 0.30693 & 0.30694 & +5.9473e-06 & 0.30694 & +7.1036e-06 \\\\ \n",
        "\\hline\n",
        "W186 & 0.28488 & 0.28487 & -8.3725e-06 & 0.28487 & -7.2991e-06 \\\\ \n",
        "\\hline\n",
        "\\end{tabular}\n",
        "\n"
       ]
      }
     ],
     "prompt_number": 42
    },
    {
     "cell_type": "code",
     "collapsed": false,
     "input": [],
     "language": "python",
     "metadata": {},
     "outputs": []
    }
   ],
   "metadata": {}
  }
 ]
}