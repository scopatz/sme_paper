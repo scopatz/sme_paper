{
 "metadata": {
  "name": "enrich_multi_sym"
 },
 "nbformat": 3,
 "nbformat_minor": 0,
 "worksheets": [
  {
   "cells": [
    {
     "cell_type": "code",
     "collapsed": false,
     "input": [
      "%load_ext sympy.interactive.ipythonprinting\n",
      "import os\n",
      "import time\n",
      "import multiprocessing\n",
      "import logging\n",
      "\n",
      "from sympy import Symbol, pprint, latex, diff, count_ops, simplify, cse, Eq, Q, \\\n",
      "    log, logcombine, Abs, exp, sqrt, series, separate, powsimp, collect, expand, Abs\n",
      "from sympy.solvers import solve\n",
      "from sympy.utilities.iterables import numbered_symbols\n",
      "\n",
      "ncomp=3\n",
      "nporder=2\n",
      "\n",
      "r= range(0, ncomp)\n",
      "rsym = range(0, ncomp)\n",
      "j = 0\n",
      "k = 1\n",
      "rsym[j] = 'j'\n",
      "rsym[k] = 'k'\n",
      "\n",
      "# setup-symbols\n",
      "alpha = Symbol('alpha', positive=True, real=True)\n",
      "LpF = Symbol('LpF', positive=True, real=True)\n",
      "PpF = Symbol('PpF', positive=True, real=True)\n",
      "TpF = Symbol('TpF', positive=True, real=True)\n",
      "SWUpF = Symbol('SWUpF', positive=True, real=True)\n",
      "SWUpP = Symbol('SWUpP', positive=True, real=True)\n",
      "NP = Symbol('N_P', positive=True, real=True)   # Enrichment Stages\n",
      "NT = Symbol('N_T', positive=True, real=True)   # De-enrichment Stages\n",
      "NP0 = Symbol('N_P^0', positive=True, real=True) # Enrichment Stages Initial Guess\n",
      "NT0 = Symbol('N_T^0', positive=True, real=True) # De-enrichment Stages Initial Guess\n",
      "NP1 = Symbol('N_P^1', positive=True, real=True) # Enrichment Stages Computed Value\n",
      "NT1 = Symbol('N_T^1', positive=True, real=True) # De-enrichment Stages Computed Value\n",
      "Mstar = Symbol('M^*', positive=True, real=True)\n",
      "MW = [Symbol('M_{0}'.format(i), positive=True, real=True) for i in rsym]\n",
      "beta = [alpha**(Mstar - MWi) for MWi in MW]\n",
      "\n",
      "# np_closed helper terms\n",
      "NP_b = Symbol('NP_b', real=True)\n",
      "NP_2a = Symbol('NP_2a', real=True)\n",
      "NP_sqrt_base = Symbol('NP_sqrt_base', real=True)\n",
      "\n",
      "xF = [Symbol('x_{0}^F'.format(i), positive=True, real=True) for i in rsym]\n",
      "xPi = [Symbol('x_{0}^P'.format(i), positive=True, real=True) for i in rsym]\n",
      "xTi = [Symbol('x_{0}^T'.format(i), positive=True, real=True) for i in rsym]\n",
      "xPj = xPi[j]\n",
      "xFj = xF[j]\n",
      "xTj = xTi[j]\n",
      "ppf = (xFj - xTj)/(xPj - xTj)\n",
      "tpf = (xFj - xPj)/(xTj - xPj)\n",
      "\n",
      "xP = [(((xF[i]/ppf)*(beta[i]**(NT+1) - 1))/(beta[i]**(NT+1) - beta[i]**(-NP))) for i in r]\n",
      "xT = [(((xF[i]/tpf)*(1 - beta[i]**(-NP)))/(beta[i]**(NT+1) - beta[i]**(-NP))) for i in r]\n",
      "\n",
      "rfeed = xFj / xF[k]\n",
      "rprod = xPj / xP[k]\n",
      "rtail = xTj / xT[k]\n",
      "\n",
      "# setup constraint equations\n",
      "numer = [ppf*xP[i]*log(rprod) + tpf*xT[i]*log(rtail) - xF[i]*log(rfeed) for i in r]\n",
      "denom = [log(beta[j]) * ((beta[i] - 1.0)/(beta[i] + 1.0)) for i in r]\n",
      "LoverF = sum([n/d for n, d in zip(numer, denom)])\n",
      "SWUoverF = -1.0 * sum(numer)\n",
      "SWUoverP = SWUoverF / ppf\n",
      "\n",
      "prod_constraint = (xPj/xFj)*ppf - (beta[j]**(NT+1) - 1)/\\\n",
      "                  (beta[j]**(NT+1) - beta[j]**(-NP))\n",
      "tail_constraint = (xTj/xFj)*(sum(xT)) - (1 - beta[j]**(-NP))/\\\n",
      "                  (beta[j]**(NT+1) - beta[j]**(-NP))"
     ],
     "language": "python",
     "metadata": {},
     "outputs": [],
     "prompt_number": 8
    },
    {
     "cell_type": "code",
     "collapsed": false,
     "input": [
      "# This is NT(NP,...) and is correct!\n",
      "nt_closed = solve(prod_constraint, NT)[0]\n",
      "nt_closed"
     ],
     "language": "python",
     "metadata": {},
     "outputs": [
      {
       "latex": [
        "$$\\frac{- M^{*} N_{P} \\log{\\left (\\alpha \\right )} - M^{*} \\log{\\left (\\alpha \\right )} + M_{j} \\log{\\left (\\alpha \\right )} - \\log{\\left (x^{T}_{j} \\right )} - \\log{\\left (\\frac{- x^{F}_{j} + x^{P}_{j}}{\\alpha^{M^{*} N_{P}} x^{F}_{j} x^{P}_{j} - \\alpha^{M^{*} N_{P}} x^{F}_{j} x^{T}_{j} - \\alpha^{M_{j} N_{P}} x^{F}_{j} x^{P}_{j} + \\alpha^{M_{j} N_{P}} x^{P}_{j} x^{T}_{j}} \\right )}}{\\left(M^{*} - M_{j}\\right) \\log{\\left (\\alpha \\right )}}$$"
       ],
       "output_type": "pyout",
       "png": "[encoded data removed]",
       "prompt_number": 9,
       "text": [
        "                                                            \u239b                 \n",
        "-M^*\u22c5N_P\u22c5log(\u03b1) - M^*\u22c5log(\u03b1) + M_j\u22c5log(\u03b1) - log(x_j^T) - log\u239c\u2500\u2500\u2500\u2500\u2500\u2500\u2500\u2500\u2500\u2500\u2500\u2500\u2500\u2500\u2500\u2500\u2500\n",
        "                                                            \u239c M^*\u22c5N_P         \n",
        "                                                            \u239d\u03b1       \u22c5x_j^F\u22c5x_\n",
        "\u2500\u2500\u2500\u2500\u2500\u2500\u2500\u2500\u2500\u2500\u2500\u2500\u2500\u2500\u2500\u2500\u2500\u2500\u2500\u2500\u2500\u2500\u2500\u2500\u2500\u2500\u2500\u2500\u2500\u2500\u2500\u2500\u2500\u2500\u2500\u2500\u2500\u2500\u2500\u2500\u2500\u2500\u2500\u2500\u2500\u2500\u2500\u2500\u2500\u2500\u2500\u2500\u2500\u2500\u2500\u2500\u2500\u2500\u2500\u2500\u2500\u2500\u2500\u2500\u2500\u2500\u2500\u2500\u2500\u2500\u2500\u2500\u2500\u2500\u2500\u2500\u2500\u2500\n",
        "                                                                   (M^* - M_j)\n",
        "\n",
        "                     -x_j^F + x_j^P                                     \u239e\n",
        "\u2500\u2500\u2500\u2500\u2500\u2500\u2500\u2500\u2500\u2500\u2500\u2500\u2500\u2500\u2500\u2500\u2500\u2500\u2500\u2500\u2500\u2500\u2500\u2500\u2500\u2500\u2500\u2500\u2500\u2500\u2500\u2500\u2500\u2500\u2500\u2500\u2500\u2500\u2500\u2500\u2500\u2500\u2500\u2500\u2500\u2500\u2500\u2500\u2500\u2500\u2500\u2500\u2500\u2500\u2500\u2500\u2500\u2500\u2500\u2500\u2500\u2500\u2500\u2500\u2500\u2500\u2500\u2500\u2500\u2500\u2500\u2500\u239f\n",
        "       M^*\u22c5N_P                M_j\u22c5N_P                M_j\u22c5N_P            \u239f\n",
        "j^P - \u03b1       \u22c5x_j^F\u22c5x_j^T - \u03b1       \u22c5x_j^F\u22c5x_j^P + \u03b1       \u22c5x_j^P\u22c5x_j^T\u23a0\n",
        "\u2500\u2500\u2500\u2500\u2500\u2500\u2500\u2500\u2500\u2500\u2500\u2500\u2500\u2500\u2500\u2500\u2500\u2500\u2500\u2500\u2500\u2500\u2500\u2500\u2500\u2500\u2500\u2500\u2500\u2500\u2500\u2500\u2500\u2500\u2500\u2500\u2500\u2500\u2500\u2500\u2500\u2500\u2500\u2500\u2500\u2500\u2500\u2500\u2500\u2500\u2500\u2500\u2500\u2500\u2500\u2500\u2500\u2500\u2500\u2500\u2500\u2500\u2500\u2500\u2500\u2500\u2500\u2500\u2500\u2500\u2500\u2500\u2500\n",
        "\u22c5log(\u03b1)                                                                  "
       ]
      }
     ],
     "prompt_number": 9
    },
    {
     "cell_type": "code",
     "collapsed": false,
     "input": [
      "print \"M* count\", nt_closed.count(Mstar)\n",
      "print \"NP count\", nt_closed.count(NP)\n",
      "print \"Total ops\", count_ops(nt_closed)"
     ],
     "language": "python",
     "metadata": {},
     "outputs": [
      {
       "output_type": "stream",
       "stream": "stdout",
       "text": [
        "M* count 3\n",
        "NP count 1\n"
       ]
      },
      {
       "output_type": "pyout",
       "png": "[encoded data removed]",
       "prompt_number": 15,
       "text": [
        "31"
       ]
      }
     ],
     "prompt_number": 15
    },
    {
     "cell_type": "code",
     "collapsed": false,
     "input": [
      "# However, this is NT(NP,...) rewritten (by hand) to minimize the number of NP \n",
      "# and M* instances in the expression.  Luckily this is only depends on the key \n",
      "# component and remains general no matter the number of components.\n",
      "nt_closed = (-MW[0]*log(alpha) + Mstar*log(alpha) + log(xTj) + log((-1.0 + xPj/\\\n",
      "    xF[0])/(xPj - xTj)) - log(alpha**(NP*(MW[0] - Mstar))*(xF[0]*xPj - xPj*xTj)/\\\n",
      "    (-xF[0]*xPj + xF[0]*xTj) + 1))/((MW[0] - Mstar)*log(alpha))\n",
      "nt_closed"
     ],
     "language": "python",
     "metadata": {},
     "outputs": [
      {
       "output_type": "pyout",
       "png": "[encoded data removed]",
       "prompt_number": 14,
       "text": [
        "31"
       ]
      }
     ],
     "prompt_number": 14
    },
    {
     "cell_type": "code",
     "collapsed": false,
     "input": [
      "print \"M* count\", nt_closed.count(Mstar)\n",
      "print \"NP count\", nt_closed.count(NP)\n",
      "print \"Total ops\", count_ops(nt_closed)"
     ],
     "language": "python",
     "metadata": {},
     "outputs": []
    },
    {
     "cell_type": "code",
     "collapsed": false,
     "input": [
      "    # new expression for normalized flow rate\n",
      "    # NOTE: not needed, solved below\n",
      "    #loverf = LoverF.xreplace({NT: nt_closed})\n",
      "\n",
      "    # Define the constraint equation with which to solve NP. This is chosen such to \n",
      "    # minimize the number of ops in the derivatives (and thus np_closed).  Other, \n",
      "    # more verbose possibilities are commented out.\n",
      "    #np_constraint = (xP[j]/sum(xP) - xPj).xreplace({NT: nt_closed})\n",
      "    #np_constraint = (xP[j]- sum(xP)*xPj).xreplace({NT: nt_closed})\n",
      "    #np_constraint = (xT[j]/sum(xT) - xTj).xreplace({NT: nt_closed})\n",
      "    np_constraint = (xT[j] - sum(xT)*xTj).xreplace({NT: nt_closed})\n",
      "\n",
      "    # get closed form approximation of NP via symbolic derivatives\n",
      "    stat = _aggstatus(stat, \"  order-{0} NP approximation\".format(nporder), aggstat)\n",
      "    d0NP = np_constraint.xreplace({NP: NP0})\n",
      "    d1NP = diff(np_constraint, NP, 1).xreplace({NP: NP0})\n",
      "    if 1 == nporder:\n",
      "        np_closed = NP0 - d1NP / d0NP\n",
      "    elif 2 == nporder:\n",
      "        d2NP = diff(np_constraint, NP, 2).xreplace({NP: NP0})/2.0\n",
      "        # taylor series polynomial coefficients, grouped by order\n",
      "        # f(x) = ax**2 + bx + c\n",
      "        a = d2NP\n",
      "        b = d1NP - 2*NP0*d2NP\n",
      "        c = d0NP - NP0*d1NP + NP0*NP0*d2NP\n",
      "        # quadratic eq. (minus only)\n",
      "        #np_closed = (-b - sqrt(b**2 - 4*a*c)) / (2*a)\n",
      "        # However, we need to break up this expr as follows to prevent \n",
      "        # a floating point arithmetic bug if b**2 - 4*a*c is very close\n",
      "        # to zero but happens to be negative.  LAME!!!\n",
      "        np_2a = 2*a\n",
      "        np_sqrt_base = b**2 - 4*a*c\n",
      "        np_closed = (-NP_b - sqrt(NP_sqrt_base)) / (NP_2a)\n",
      "    else:\n",
      "        raise ValueError(\"nporder must be 1 or 2\")\n",
      "\n",
      "    # generate cse for writing out\n",
      "    msg = \"  minimizing ops by eliminating common sub-expressions\"\n",
      "    stat = _aggstatus(stat, msg, aggstat)\n",
      "    exprstages = [Eq(NP_b, b), Eq(NP_2a, np_2a), \n",
      "                  # fix for floating point sqrt() error\n",
      "                  Eq(NP_sqrt_base, np_sqrt_base), Eq(NP_sqrt_base, Abs(NP_sqrt_base)), \n",
      "                  Eq(NP1, np_closed), Eq(NT1, nt_closed).xreplace({NP: NP1})]\n",
      "    cse_stages = cse(exprstages, numbered_symbols('n'))\n",
      "    exprothers = [Eq(LpF, LoverF), Eq(PpF, ppf), Eq(TpF, tpf), \n",
      "                  Eq(SWUpF, SWUoverF), Eq(SWUpP, SWUoverP)] + \\\n",
      "                 [Eq(*z) for z in zip(xPi, xP)] + [Eq(*z) for z in zip(xTi, xT)]\n",
      "    exprothers = [e.xreplace({NP: NP1, NT: NT1}) for e in exprothers]\n",
      "    cse_others = cse(exprothers, numbered_symbols('g'))\n",
      "    exprops = count_ops(exprstages + exprothers)\n",
      "    cse_ops = count_ops(cse_stages + cse_others)\n",
      "    msg = \"    reduced {0} ops to {1}\".format(exprops, cse_ops)\n",
      "    stat = _aggstatus(stat, msg, aggstat)\n",
      "\n",
      "    # create function body\n",
      "    ccode, repnames = cse_to_c(*cse_stages, indent=6, debug=debug)\n",
      "    ccode_others, repnames_others = cse_to_c(*cse_others, indent=6, debug=debug)\n",
      "    ccode += ccode_others\n",
      "    repnames |= repnames_others\n",
      "\n",
      "    msg = \"  completed in {0:.3G} s\".format(time.time() - start_time)\n",
      "    stat = _aggstatus(stat, msg, aggstat)\n",
      "    if aggstat:\n",
      "        print stat\n",
      "    return ccode, repnames, stat"
     ],
     "language": "python",
     "metadata": {},
     "outputs": []
    }
   ],
   "metadata": {}
  }
 ]
}